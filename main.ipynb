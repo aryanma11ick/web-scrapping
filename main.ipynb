{
 "cells": [
  {
   "cell_type": "code",
   "execution_count": 10,
   "metadata": {},
   "outputs": [],
   "source": [
    "from selenium import webdriver\n",
    "from selenium.webdriver.common.by import By\n",
    "driver = webdriver.Chrome()\n",
    "\n",
    "driver.get('https://www.myntra.com/dresses?f=Gender%3Amen%20women%2Cwomen&sort=popularity')"
   ]
  },
  {
   "cell_type": "code",
   "execution_count": 11,
   "metadata": {},
   "outputs": [
    {
     "name": "stdout",
     "output_type": "stream",
     "text": [
      "Dresses Online - Low Price Offer on Dresses for Women at Myntra\n"
     ]
    }
   ],
   "source": [
    "title = driver.title\n",
    "print(title)"
   ]
  },
  {
   "cell_type": "code",
   "execution_count": 12,
   "metadata": {},
   "outputs": [],
   "source": [
    "item = driver.find_element(by=By.ID, value='25892106')"
   ]
  },
  {
   "cell_type": "code",
   "execution_count": 13,
   "metadata": {},
   "outputs": [],
   "source": [
    "def extract_product_info(li_element):\n",
    "    try:\n",
    "        # Locate the product metadata container\n",
    "        product_meta_info = li_element.find_element(By.CLASS_NAME, \"product-productMetaInfo\")\n",
    "\n",
    "        # Extract the product id\n",
    "        product_id = li_element.get_attribute(\"id\")\n",
    "\n",
    "        # Extract the brand\n",
    "        brand = product_meta_info.find_element(By.CLASS_NAME, \"product-brand\").text\n",
    "\n",
    "        # Extract the product name\n",
    "        product_name = product_meta_info.find_element(By.CLASS_NAME, \"product-product\").text\n",
    "\n",
    "        # Extract the price\n",
    "        price = _extract_product_price(product_meta_info)\n",
    "\n",
    "        # Locate the image slider container\n",
    "        image_slider = li_element.find_element(By.CLASS_NAME, \"product-imageSliderContainer\")\n",
    "\n",
    "        # Extract the <img> tag inside the <picture> tag\n",
    "        img_tag = image_slider.find_element(By.TAG_NAME, \"img\")\n",
    "        image_url = img_tag.get_attribute(\"src\")\n",
    "\n",
    "        # Extract the product link\n",
    "        product_link = li_element.find_element(By.TAG_NAME, \"a\").get_attribute(\"href\")\n",
    "\n",
    "        # Extract the product rating\n",
    "        rating, count = _extract_rating_data(li_element)\n",
    "\n",
    "        return {\n",
    "            \"id\": product_id,\n",
    "            \"brand\": brand,\n",
    "            \"product_name\": product_name,\n",
    "            \"price\": price,\n",
    "            \"rating:\": rating,\n",
    "            \"count\": count,\n",
    "            \"image_url\": image_url,\n",
    "            \"product_link\": product_link,\n",
    "        }\n",
    "\n",
    "    except Exception as e:\n",
    "        print(f\"Error extracting product info from <li>: {e}\")\n",
    "        return None\n",
    "\n",
    "\n",
    "\n",
    "def _extract_product_price(product_meta_info):\n",
    "    price_container = product_meta_info.find_element(By.CLASS_NAME, \"product-price\")\n",
    "\n",
    "    # Check if discounted price is present\n",
    "    price = {\"Discounted\": 0, \"Original\": 0}\n",
    "    try:\n",
    "        discounted_price = price_container.find_element(By.CLASS_NAME, \"product-discountedPrice\").text.replace(\"Rs. \", \"\").strip()\n",
    "        original_price = price_container.find_element(By.CLASS_NAME, \"product-strike\").text.replace(\"Rs. \", \"\").strip()\n",
    "        # price = f\"Discounted: {discounted_price}, Original: {original_price}\"\n",
    "        price[\"Discounted\"]= discounted_price\n",
    "        price[\"Original\"]= original_price\n",
    "\n",
    "    except:\n",
    "        # If discounted price is not present, fall back to the single price\n",
    "        original_price = price_container.find_element(By.TAG_NAME, \"span\").text.replace(\"Rs. \", \"\").strip()\n",
    "        price[\"Original\"] = original_price\n",
    "\n",
    "    return price\n",
    "\n",
    "\n",
    "def _extract_rating_data(li_element):\n",
    "    try:\n",
    "        # Locate the ratings container\n",
    "        ratings_container = li_element.find_element(By.CLASS_NAME, \"product-ratingsContainer\")\n",
    "\n",
    "        # Extract the rating value (e.g., 4)\n",
    "        rating_value = ratings_container.find_element(By.TAG_NAME, \"span\").text\n",
    "\n",
    "        # Extract the ratings count (e.g., 872)\n",
    "        ratings_count_container = ratings_container.find_element(By.CLASS_NAME, \"product-ratingsCount\")\n",
    "        ratings_count = ratings_count_container.text.split('|')[-1].strip()\n",
    "\n",
    "        return rating_value, ratings_count\n",
    "\n",
    "    except Exception as e:\n",
    "        print(f\"Error extracting data from an <li>: {e}\")\n",
    "        return None, None"
   ]
  }
 ],
 "metadata": {
  "kernelspec": {
   "display_name": ".venv",
   "language": "python",
   "name": "python3"
  },
  "language_info": {
   "codemirror_mode": {
    "name": "ipython",
    "version": 3
   },
   "file_extension": ".py",
   "mimetype": "text/x-python",
   "name": "python",
   "nbconvert_exporter": "python",
   "pygments_lexer": "ipython3",
   "version": "3.12.6"
  }
 },
 "nbformat": 4,
 "nbformat_minor": 2
}
