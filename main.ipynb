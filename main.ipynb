{
 "cells": [
  {
   "cell_type": "code",
   "execution_count": 23,
   "metadata": {},
   "outputs": [],
   "source": [
    "#Importing Packages\n",
    "from selenium import webdriver\n",
    "from selenium.webdriver.common.by import By\n",
    "from selenium.webdriver.support.ui import WebDriverWait\n",
    "from selenium.webdriver.support import expected_conditions as EC\n",
    "import pandas as pd\n"
   ]
  },
  {
   "cell_type": "code",
   "execution_count": 24,
   "metadata": {},
   "outputs": [],
   "source": [
    "url = 'https://www.myntra.com/dresses?f=Gender%3Amen%20women%2Cwomen&sort=popularity'\n",
    "driver = webdriver.Chrome()\n",
    "driver.get(url)"
   ]
  },
  {
   "cell_type": "code",
   "execution_count": 5,
   "metadata": {},
   "outputs": [
    {
     "name": "stdout",
     "output_type": "stream",
     "text": [
      "Dresses Online - Low Price Offer on Dresses for Women at Myntra\n"
     ]
    }
   ],
   "source": [
    "title = driver.title\n",
    "print(title)"
   ]
  },
  {
   "cell_type": "code",
   "execution_count": 31,
   "metadata": {},
   "outputs": [],
   "source": [
    "def extract_product_info(li_element):\n",
    "    try:\n",
    "        wait = WebDriverWait(li_element, 10)\n",
    "\n",
    "        # Wait for the product meta info to load\n",
    "        product_meta_info = wait.until(\n",
    "            EC.presence_of_element_located((By.CLASS_NAME, \"product-productMetaInfo\"))\n",
    "        )\n",
    "\n",
    "        product_id = li_element.get_attribute(\"id\")\n",
    "\n",
    "        product_name = li_element.find_element(By.CLASS_NAME, \"product-product\").text\n",
    "\n",
    "        brand = li_element.find_element(By.CLASS_NAME, \"product-brand\").text\n",
    "\n",
    "        try: \n",
    "            discounted_price = li_element.find_element(By.CLASS_NAME, \"product-discountedPrice\").text\n",
    "            price = li_element.find_element(By.CLASS_NAME, \"product-strike\").text\n",
    "\n",
    "        except:\n",
    "            discounted_price = \"NA\"\n",
    "            price = li_element.find_element(By.CLASS_NAME, \"product-price\").text\n",
    "\n",
    "        image_element = li_element.find_element(By.TAG_NAME, \"img\")\n",
    "\n",
    "        image_url = image_element.get_attribute(\"src\")\n",
    "\n",
    "        product_link = li_element.find_element(By.TAG_NAME, \"a\").get_attribute(\"href\")\n",
    "\n",
    "        return {\n",
    "            \"id\": product_id,\n",
    "            \"product_name\": product_name,\n",
    "            \"brand\": brand,\n",
    "            \"price\": price,\n",
    "            \"discounted_price\": discounted_price,\n",
    "            \"image_url\": image_url,\n",
    "            \"product_link\": product_link,\n",
    "        }\n",
    "\n",
    "    except Exception as e:\n",
    "        print(f\"Error extracting product info from <li>: {e}\")\n",
    "        return None\n"
   ]
  },
  {
   "cell_type": "code",
   "execution_count": 32,
   "metadata": {},
   "outputs": [
    {
     "name": "stdout",
     "output_type": "stream",
     "text": [
      "11\n",
      "Data saved to 'products.csv'\n"
     ]
    }
   ],
   "source": [
    "li_container = driver.find_element(By.CLASS_NAME, \"results-base\")\n",
    "\n",
    "li_elements = li_container.find_elements(By.TAG_NAME, 'li')\n",
    "\n",
    "products = []\n",
    "count = 0\n",
    "\n",
    "for li in li_elements:\n",
    "    if count > 10:\n",
    "        break\n",
    "    \n",
    "    product = extract_product_info(li)\n",
    "    if product:\n",
    "        products.append(product)\n",
    "    count = count + 1\n",
    "\n",
    "print(count)\n",
    "df = pd.DataFrame(products)\n",
    "\n",
    "# Save the DataFrame to a CSV file\n",
    "df.to_csv('products.csv', index=False)\n",
    "print(\"Data saved to 'products.csv'\")"
   ]
  },
  {
   "cell_type": "code",
   "execution_count": null,
   "metadata": {},
   "outputs": [],
   "source": [
    "\n"
   ]
  }
 ],
 "metadata": {
  "kernelspec": {
   "display_name": ".venv",
   "language": "python",
   "name": "python3"
  },
  "language_info": {
   "codemirror_mode": {
    "name": "ipython",
    "version": 3
   },
   "file_extension": ".py",
   "mimetype": "text/x-python",
   "name": "python",
   "nbconvert_exporter": "python",
   "pygments_lexer": "ipython3",
   "version": "3.12.6"
  }
 },
 "nbformat": 4,
 "nbformat_minor": 2
}
