{
 "cells": [
  {
   "cell_type": "code",
   "execution_count": 1,
   "metadata": {},
   "outputs": [],
   "source": [
    "#Importing Packages\n",
    "from selenium import webdriver\n",
    "from selenium.webdriver.common.by import By\n",
    "from selenium.webdriver.support.ui import WebDriverWait\n",
    "from selenium.webdriver.support import expected_conditions as EC\n",
    "import pandas as pd\n"
   ]
  },
  {
   "cell_type": "code",
   "execution_count": null,
   "metadata": {},
   "outputs": [],
   "source": [
    "url = 'https://www.myntra.com/dresses?f=Gender%3Amen%20women%2Cwomen&sort=popularity'\n",
    "driver = webdriver.Chrome()\n",
    "driver.get(url)"
   ]
  },
  {
   "cell_type": "code",
   "execution_count": 5,
   "metadata": {},
   "outputs": [
    {
     "name": "stdout",
     "output_type": "stream",
     "text": [
      "Dresses Online - Low Price Offer on Dresses for Women at Myntra\n"
     ]
    }
   ],
   "source": [
    "title = driver.title\n",
    "print(title)"
   ]
  },
  {
   "cell_type": "code",
   "execution_count": 19,
   "metadata": {},
   "outputs": [],
   "source": [
    "def extract_product_info(li_element):\n",
    "    try:\n",
    "        wait = WebDriverWait(li_element, 10)\n",
    "\n",
    "        # Wait for the product meta info to load\n",
    "        product_meta_info = wait.until(\n",
    "            EC.presence_of_element_located((By.CLASS_NAME, \"product-productMetaInfo\"))\n",
    "        )\n",
    "    \n",
    "        product_meta_info = li_element.find_element(By.CLASS_NAME, \"product-productMetaInfo\")\n",
    "\n",
    "        product_id = li_element.get_attribute(\"id\")\n",
    "\n",
    "        product_name = product_meta_info.find_element(By.CLASS_NAME, \"product-product\").text\n",
    "\n",
    "        brand = product_meta_info.find_element(By.CLASS_NAME, \"product-brand\").text\n",
    "\n",
    "        price = product_meta_info.find_element(By.CLASS_NAME, \"product-price\").text\n",
    "\n",
    "        image_slider = li_element.find_element(By.CLASS_NAME, \"product-imageSliderContainer\")\n",
    "        img_tag = image_slider.find_element(By.TAG_NAME, \"img\")\n",
    "        image_url = img_tag.get_attribute(\"src\")\n",
    "        \n",
    "        product_link = li_element.find_element(By.TAG_NAME, \"a\").get_attribute(\"href\")\n",
    "\n",
    "        return {\n",
    "            \"id\": product_id,\n",
    "            \"product_name\": product_name,\n",
    "            \"brand\": brand,\n",
    "            \"price\": price,\n",
    "            \"image_url\": image_url,\n",
    "            \"product_link\": product_link,\n",
    "        }\n",
    "\n",
    "    except Exception as e:\n",
    "        print(f\"Error extracting product info from <li>: {e}\")\n",
    "        return None\n"
   ]
  },
  {
   "cell_type": "code",
   "execution_count": null,
   "metadata": {},
   "outputs": [],
   "source": [
    "li_container = driver.find_element(By.CLASS_NAME, \"results-data\")"
   ]
  },
  {
   "cell_type": "code",
   "execution_count": null,
   "metadata": {},
   "outputs": [],
   "source": [
    "\n",
    "products = []\n",
    "for li in li_elements:\n",
    "    product = extract_product_info(li)\n",
    "    if product:\n",
    "        products.append(product)\n",
    "\n",
    "print(products)"
   ]
  }
 ],
 "metadata": {
  "kernelspec": {
   "display_name": ".venv",
   "language": "python",
   "name": "python3"
  },
  "language_info": {
   "codemirror_mode": {
    "name": "ipython",
    "version": 3
   },
   "file_extension": ".py",
   "mimetype": "text/x-python",
   "name": "python",
   "nbconvert_exporter": "python",
   "pygments_lexer": "ipython3",
   "version": "3.12.6"
  }
 },
 "nbformat": 4,
 "nbformat_minor": 2
}
