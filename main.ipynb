{
 "cells": [
  {
   "cell_type": "code",
   "execution_count": 2,
   "metadata": {},
   "outputs": [],
   "source": [
    "#Importing Packages\n",
    "from selenium import webdriver\n",
    "from selenium.webdriver.common.by import By\n",
    "from selenium.webdriver.support.ui import WebDriverWait\n",
    "from selenium.webdriver.support import expected_conditions as EC\n",
    "import pandas as pd\n"
   ]
  },
  {
   "cell_type": "code",
   "execution_count": 3,
   "metadata": {},
   "outputs": [],
   "source": [
    "url = 'https://www.myntra.com/dresses?f=Gender%3Amen%20women%2Cwomen&sort=popularity'\n",
    "driver = webdriver.Chrome()\n",
    "driver.get(url)"
   ]
  },
  {
   "cell_type": "code",
   "execution_count": 5,
   "metadata": {},
   "outputs": [
    {
     "name": "stdout",
     "output_type": "stream",
     "text": [
      "Dresses Online - Low Price Offer on Dresses for Women at Myntra\n"
     ]
    }
   ],
   "source": [
    "title = driver.title\n",
    "print(title)"
   ]
  },
  {
   "cell_type": "code",
   "execution_count": 12,
   "metadata": {},
   "outputs": [],
   "source": [
    "def extract_product_info(li_element):\n",
    "    try:\n",
    "        wait = WebDriverWait(li_element, 10)\n",
    "\n",
    "        # Wait for the product meta info to load\n",
    "        product_meta_info = wait.until(\n",
    "            EC.presence_of_element_located((By.CLASS_NAME, \"product-productMetaInfo\"))\n",
    "        )\n",
    "\n",
    "        product_id = li_element.get_attribute(\"id\")\n",
    "\n",
    "        product_name = li_element.find_element(By.CLASS_NAME, \"product-product\").text\n",
    "\n",
    "        brand = li_element.find_element(By.CLASS_NAME, \"product-brand\").text\n",
    "\n",
    "        price = li_element.find_element(By.CLASS_NAME, \"product-price\").text\n",
    "        \n",
    "        image_element = li_element.find_element(By.TAG_NAME, \"img\")\n",
    "\n",
    "        image_url = image_element.get_attribute(\"src\")\n",
    "\n",
    "        product_link = li_element.find_element(By.TAG_NAME, \"a\").get_attribute(\"href\")\n",
    "\n",
    "        return {\n",
    "            \"id\": product_id,\n",
    "            \"product_name\": product_name,\n",
    "            \"brand\": brand,\n",
    "            \"price\": price,\n",
    "            \"image_url\": image_url,\n",
    "            \"product_link\": product_link,\n",
    "        }\n",
    "\n",
    "    except Exception as e:\n",
    "        print(f\"Error extracting product info from <li>: {e}\")\n",
    "        return None\n"
   ]
  },
  {
   "cell_type": "code",
   "execution_count": 13,
   "metadata": {},
   "outputs": [
    {
     "name": "stdout",
     "output_type": "stream",
     "text": [
      "[{'id': '25892106', 'product_name': 'Ruched Sleeve Wrap Dress', 'brand': 'H&M', 'price': 'Rs. 1799', 'image_url': 'https://assets.myntassets.com/dpr_2,q_60,w_210,c_limit,fl_progressive/assets/images/25892106/2024/10/24/1aaf1645-3589-4aee-80de-3ed6ff7df3751729768804020-HM-Ruched-Sleeve-Wrap-Dress-5241729768803665-1.jpg', 'product_link': 'https://www.myntra.com/dresses/h%26m/hm-ruched-sleeve-wrap-dress/25892106/buy'}]\n"
     ]
    }
   ],
   "source": [
    "li_container = driver.find_element(By.CLASS_NAME, \"results-base\")\n",
    "\n",
    "li_elements = li_container.find_elements(By.TAG_NAME, 'li')\n",
    "\n",
    "products = []\n",
    "\n",
    "for li in li_elements:\n",
    "    product = extract_product_info(li)\n",
    "    if product:\n",
    "        products.append(product)\n",
    "    \n",
    "    break\n",
    "\n",
    "print(products)\n"
   ]
  },
  {
   "cell_type": "code",
   "execution_count": null,
   "metadata": {},
   "outputs": [],
   "source": [
    "li_container = driver.find_element(By.CLASS_NAME, \"results-base\")\n",
    "\n",
    "li_elements = li_container.find_elements(By.TAG_NAME, 'li')\n",
    "\n",
    "products = []\n",
    "\n",
    "for li in li_elements:\n",
    "    product = extract_product_info(li)\n",
    "    if product:\n",
    "        products.append(product)\n",
    "    \n",
    "    break\n",
    "\n",
    "df = pd.DataFrame(products)\n",
    "\n",
    "# Save the DataFrame to a CSV file\n",
    "df.to_csv('products.csv', index=False)\n",
    "print(\"Data saved to 'products.csv'\")\n",
    "\n"
   ]
  },
  {
   "cell_type": "code",
   "execution_count": null,
   "metadata": {},
   "outputs": [],
   "source": [
    "\n"
   ]
  }
 ],
 "metadata": {
  "kernelspec": {
   "display_name": ".venv",
   "language": "python",
   "name": "python3"
  },
  "language_info": {
   "codemirror_mode": {
    "name": "ipython",
    "version": 3
   },
   "file_extension": ".py",
   "mimetype": "text/x-python",
   "name": "python",
   "nbconvert_exporter": "python",
   "pygments_lexer": "ipython3",
   "version": "3.12.6"
  }
 },
 "nbformat": 4,
 "nbformat_minor": 2
}
